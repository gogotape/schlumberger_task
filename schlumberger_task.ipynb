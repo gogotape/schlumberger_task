{
 "cells": [
  {
   "cell_type": "code",
   "execution_count": 1,
   "id": "bbcd2c27",
   "metadata": {},
   "outputs": [],
   "source": [
    "import pandas as pd\n",
    "import numpy as np\n",
    "import matplotlib.pyplot as plt\n",
    "import seaborn as sns\n",
    "\n",
    "from sklearn import metrics\n",
    "from sklearn.linear_model import LinearRegression\n",
    "from sklearn.model_selection import train_test_split"
   ]
  },
  {
   "cell_type": "code",
   "execution_count": 2,
   "id": "97d0a6ef",
   "metadata": {},
   "outputs": [],
   "source": [
    "df = pd.read_csv(\"dataset (1).csv\")"
   ]
  },
  {
   "cell_type": "code",
   "execution_count": 3,
   "id": "153ba107",
   "metadata": {},
   "outputs": [
    {
     "data": {
      "text/html": [
       "<div>\n",
       "<style scoped>\n",
       "    .dataframe tbody tr th:only-of-type {\n",
       "        vertical-align: middle;\n",
       "    }\n",
       "\n",
       "    .dataframe tbody tr th {\n",
       "        vertical-align: top;\n",
       "    }\n",
       "\n",
       "    .dataframe thead th {\n",
       "        text-align: right;\n",
       "    }\n",
       "</style>\n",
       "<table border=\"1\" class=\"dataframe\">\n",
       "  <thead>\n",
       "    <tr style=\"text-align: right;\">\n",
       "      <th></th>\n",
       "      <th>Well_id</th>\n",
       "      <th>Reservoir Pressure</th>\n",
       "      <th>ISIP</th>\n",
       "      <th>Closure Pressure</th>\n",
       "      <th>PAD Volume</th>\n",
       "      <th>Fluid Efficiency</th>\n",
       "      <th>Transmissibility</th>\n",
       "      <th>Total Prop Mass</th>\n",
       "      <th>Max Prop Conc</th>\n",
       "    </tr>\n",
       "  </thead>\n",
       "  <tbody>\n",
       "    <tr>\n",
       "      <th>0</th>\n",
       "      <td>0</td>\n",
       "      <td>1250.50</td>\n",
       "      <td>2129.5</td>\n",
       "      <td>1861.0</td>\n",
       "      <td>4.892</td>\n",
       "      <td>0.149</td>\n",
       "      <td>12.685</td>\n",
       "      <td>16787.317</td>\n",
       "      <td>7.0</td>\n",
       "    </tr>\n",
       "    <tr>\n",
       "      <th>1</th>\n",
       "      <td>2</td>\n",
       "      <td>946.75</td>\n",
       "      <td>2850.5</td>\n",
       "      <td>2413.5</td>\n",
       "      <td>5.005</td>\n",
       "      <td>0.240</td>\n",
       "      <td>10.236</td>\n",
       "      <td>14543.000</td>\n",
       "      <td>5.0</td>\n",
       "    </tr>\n",
       "    <tr>\n",
       "      <th>2</th>\n",
       "      <td>3</td>\n",
       "      <td>1515.00</td>\n",
       "      <td>3782.5</td>\n",
       "      <td>3054.5</td>\n",
       "      <td>4.995</td>\n",
       "      <td>0.100</td>\n",
       "      <td>10.667</td>\n",
       "      <td>14366.000</td>\n",
       "      <td>5.0</td>\n",
       "    </tr>\n",
       "    <tr>\n",
       "      <th>3</th>\n",
       "      <td>4</td>\n",
       "      <td>2390.55</td>\n",
       "      <td>3449.5</td>\n",
       "      <td>3048.0</td>\n",
       "      <td>4.457</td>\n",
       "      <td>0.040</td>\n",
       "      <td>10.765</td>\n",
       "      <td>15406.000</td>\n",
       "      <td>5.0</td>\n",
       "    </tr>\n",
       "    <tr>\n",
       "      <th>4</th>\n",
       "      <td>8</td>\n",
       "      <td>655.95</td>\n",
       "      <td>NaN</td>\n",
       "      <td>2290.0</td>\n",
       "      <td>3.563</td>\n",
       "      <td>0.080</td>\n",
       "      <td>12.254</td>\n",
       "      <td>15504.917</td>\n",
       "      <td>7.0</td>\n",
       "    </tr>\n",
       "  </tbody>\n",
       "</table>\n",
       "</div>"
      ],
      "text/plain": [
       "   Well_id  Reservoir Pressure    ISIP  Closure Pressure  PAD Volume  \\\n",
       "0        0             1250.50  2129.5            1861.0       4.892   \n",
       "1        2              946.75  2850.5            2413.5       5.005   \n",
       "2        3             1515.00  3782.5            3054.5       4.995   \n",
       "3        4             2390.55  3449.5            3048.0       4.457   \n",
       "4        8              655.95     NaN            2290.0       3.563   \n",
       "\n",
       "   Fluid Efficiency  Transmissibility  Total Prop Mass  Max Prop Conc  \n",
       "0             0.149            12.685        16787.317            7.0  \n",
       "1             0.240            10.236        14543.000            5.0  \n",
       "2             0.100            10.667        14366.000            5.0  \n",
       "3             0.040            10.765        15406.000            5.0  \n",
       "4             0.080            12.254        15504.917            7.0  "
      ]
     },
     "execution_count": 3,
     "metadata": {},
     "output_type": "execute_result"
    }
   ],
   "source": [
    "df.head()"
   ]
  },
  {
   "cell_type": "code",
   "execution_count": 4,
   "id": "6a289a32",
   "metadata": {},
   "outputs": [
    {
     "data": {
      "text/html": [
       "<div>\n",
       "<style scoped>\n",
       "    .dataframe tbody tr th:only-of-type {\n",
       "        vertical-align: middle;\n",
       "    }\n",
       "\n",
       "    .dataframe tbody tr th {\n",
       "        vertical-align: top;\n",
       "    }\n",
       "\n",
       "    .dataframe thead th {\n",
       "        text-align: right;\n",
       "    }\n",
       "</style>\n",
       "<table border=\"1\" class=\"dataframe\">\n",
       "  <thead>\n",
       "    <tr style=\"text-align: right;\">\n",
       "      <th></th>\n",
       "      <th>Well_id</th>\n",
       "      <th>Reservoir Pressure</th>\n",
       "      <th>ISIP</th>\n",
       "      <th>Closure Pressure</th>\n",
       "      <th>PAD Volume</th>\n",
       "      <th>Fluid Efficiency</th>\n",
       "      <th>Transmissibility</th>\n",
       "      <th>Total Prop Mass</th>\n",
       "      <th>Max Prop Conc</th>\n",
       "    </tr>\n",
       "  </thead>\n",
       "  <tbody>\n",
       "    <tr>\n",
       "      <th>count</th>\n",
       "      <td>48.000000</td>\n",
       "      <td>48.000000</td>\n",
       "      <td>45.000000</td>\n",
       "      <td>46.000000</td>\n",
       "      <td>48.000000</td>\n",
       "      <td>48.000000</td>\n",
       "      <td>48.000000</td>\n",
       "      <td>43.000000</td>\n",
       "      <td>48.000000</td>\n",
       "    </tr>\n",
       "    <tr>\n",
       "      <th>mean</th>\n",
       "      <td>31.041667</td>\n",
       "      <td>1275.932292</td>\n",
       "      <td>3271.511111</td>\n",
       "      <td>2526.130435</td>\n",
       "      <td>4.198271</td>\n",
       "      <td>0.205812</td>\n",
       "      <td>11.398646</td>\n",
       "      <td>15621.992256</td>\n",
       "      <td>6.591667</td>\n",
       "    </tr>\n",
       "    <tr>\n",
       "      <th>std</th>\n",
       "      <td>17.526828</td>\n",
       "      <td>588.245674</td>\n",
       "      <td>914.087421</td>\n",
       "      <td>667.773585</td>\n",
       "      <td>0.954574</td>\n",
       "      <td>0.168566</td>\n",
       "      <td>1.333656</td>\n",
       "      <td>5745.320548</td>\n",
       "      <td>1.994443</td>\n",
       "    </tr>\n",
       "    <tr>\n",
       "      <th>min</th>\n",
       "      <td>0.000000</td>\n",
       "      <td>106.150000</td>\n",
       "      <td>1837.000000</td>\n",
       "      <td>755.500000</td>\n",
       "      <td>1.598000</td>\n",
       "      <td>0.010000</td>\n",
       "      <td>10.021000</td>\n",
       "      <td>344.583000</td>\n",
       "      <td>2.000000</td>\n",
       "    </tr>\n",
       "    <tr>\n",
       "      <th>25%</th>\n",
       "      <td>16.750000</td>\n",
       "      <td>935.175000</td>\n",
       "      <td>2530.500000</td>\n",
       "      <td>2086.000000</td>\n",
       "      <td>3.563000</td>\n",
       "      <td>0.090000</td>\n",
       "      <td>10.350750</td>\n",
       "      <td>12424.258500</td>\n",
       "      <td>5.000000</td>\n",
       "    </tr>\n",
       "    <tr>\n",
       "      <th>50%</th>\n",
       "      <td>31.500000</td>\n",
       "      <td>1284.325000</td>\n",
       "      <td>3062.000000</td>\n",
       "      <td>2473.250000</td>\n",
       "      <td>4.429000</td>\n",
       "      <td>0.155000</td>\n",
       "      <td>11.005000</td>\n",
       "      <td>15027.517000</td>\n",
       "      <td>6.000000</td>\n",
       "    </tr>\n",
       "    <tr>\n",
       "      <th>75%</th>\n",
       "      <td>45.250000</td>\n",
       "      <td>1631.850000</td>\n",
       "      <td>3900.000000</td>\n",
       "      <td>3033.250000</td>\n",
       "      <td>4.693750</td>\n",
       "      <td>0.260000</td>\n",
       "      <td>12.113750</td>\n",
       "      <td>18505.750000</td>\n",
       "      <td>8.000000</td>\n",
       "    </tr>\n",
       "    <tr>\n",
       "      <th>max</th>\n",
       "      <td>60.000000</td>\n",
       "      <td>2653.950000</td>\n",
       "      <td>5345.000000</td>\n",
       "      <td>4089.000000</td>\n",
       "      <td>6.235000</td>\n",
       "      <td>0.770000</td>\n",
       "      <td>15.648000</td>\n",
       "      <td>26874.000000</td>\n",
       "      <td>10.000000</td>\n",
       "    </tr>\n",
       "  </tbody>\n",
       "</table>\n",
       "</div>"
      ],
      "text/plain": [
       "         Well_id  Reservoir Pressure         ISIP  Closure Pressure  \\\n",
       "count  48.000000           48.000000    45.000000         46.000000   \n",
       "mean   31.041667         1275.932292  3271.511111       2526.130435   \n",
       "std    17.526828          588.245674   914.087421        667.773585   \n",
       "min     0.000000          106.150000  1837.000000        755.500000   \n",
       "25%    16.750000          935.175000  2530.500000       2086.000000   \n",
       "50%    31.500000         1284.325000  3062.000000       2473.250000   \n",
       "75%    45.250000         1631.850000  3900.000000       3033.250000   \n",
       "max    60.000000         2653.950000  5345.000000       4089.000000   \n",
       "\n",
       "       PAD Volume  Fluid Efficiency  Transmissibility  Total Prop Mass  \\\n",
       "count   48.000000         48.000000         48.000000        43.000000   \n",
       "mean     4.198271          0.205812         11.398646     15621.992256   \n",
       "std      0.954574          0.168566          1.333656      5745.320548   \n",
       "min      1.598000          0.010000         10.021000       344.583000   \n",
       "25%      3.563000          0.090000         10.350750     12424.258500   \n",
       "50%      4.429000          0.155000         11.005000     15027.517000   \n",
       "75%      4.693750          0.260000         12.113750     18505.750000   \n",
       "max      6.235000          0.770000         15.648000     26874.000000   \n",
       "\n",
       "       Max Prop Conc  \n",
       "count      48.000000  \n",
       "mean        6.591667  \n",
       "std         1.994443  \n",
       "min         2.000000  \n",
       "25%         5.000000  \n",
       "50%         6.000000  \n",
       "75%         8.000000  \n",
       "max        10.000000  "
      ]
     },
     "execution_count": 4,
     "metadata": {},
     "output_type": "execute_result"
    }
   ],
   "source": [
    "df.describe()"
   ]
  },
  {
   "cell_type": "code",
   "execution_count": 5,
   "id": "20b1b31c",
   "metadata": {},
   "outputs": [
    {
     "data": {
      "text/plain": [
       "{'ISIP': 3, 'Closure Pressure': 2, 'Total Prop Mass': 5}"
      ]
     },
     "execution_count": 5,
     "metadata": {},
     "output_type": "execute_result"
    }
   ],
   "source": [
    "# Определяем колонки с пропущенными значениеями и количество пропусков\n",
    "missed_data_columns = {column_name: df[column_name].isnull().sum() for column_name in df if df[column_name].isnull().sum()}\n",
    "missed_data_columns"
   ]
  },
  {
   "cell_type": "code",
   "execution_count": 6,
   "id": "a0e92713",
   "metadata": {},
   "outputs": [
    {
     "data": {
      "text/plain": [
       "array([[<AxesSubplot:title={'center':'Well_id'}>,\n",
       "        <AxesSubplot:title={'center':'Reservoir Pressure'}>,\n",
       "        <AxesSubplot:title={'center':'ISIP'}>],\n",
       "       [<AxesSubplot:title={'center':'Closure Pressure'}>,\n",
       "        <AxesSubplot:title={'center':'PAD Volume'}>,\n",
       "        <AxesSubplot:title={'center':'Fluid Efficiency'}>],\n",
       "       [<AxesSubplot:title={'center':'Transmissibility'}>,\n",
       "        <AxesSubplot:title={'center':'Total Prop Mass'}>,\n",
       "        <AxesSubplot:title={'center':'Max Prop Conc'}>]], dtype=object)"
      ]
     },
     "execution_count": 6,
     "metadata": {},
     "output_type": "execute_result"
    },
    {
     "data": {
      "image/png": "[encoded data removed]",
      "text/plain": [
       "<Figure size 720x720 with 9 Axes>"
      ]
     },
     "metadata": {
      "needs_background": "light"
     },
     "output_type": "display_data"
    }
   ],
   "source": [
    "df.hist(figsize=(10, 10))"
   ]
  },
  {
   "cell_type": "code",
   "execution_count": 7,
   "id": "3816f484",
   "metadata": {},
   "outputs": [
    {
     "data": {
      "text/html": [
       "<div>\n",
       "<style scoped>\n",
       "    .dataframe tbody tr th:only-of-type {\n",
       "        vertical-align: middle;\n",
       "    }\n",
       "\n",
       "    .dataframe tbody tr th {\n",
       "        vertical-align: top;\n",
       "    }\n",
       "\n",
       "    .dataframe thead th {\n",
       "        text-align: right;\n",
       "    }\n",
       "</style>\n",
       "<table border=\"1\" class=\"dataframe\">\n",
       "  <thead>\n",
       "    <tr style=\"text-align: right;\">\n",
       "      <th></th>\n",
       "      <th>Well_id</th>\n",
       "      <th>Reservoir Pressure</th>\n",
       "      <th>ISIP</th>\n",
       "      <th>Closure Pressure</th>\n",
       "      <th>PAD Volume</th>\n",
       "      <th>Fluid Efficiency</th>\n",
       "      <th>Transmissibility</th>\n",
       "      <th>Total Prop Mass</th>\n",
       "      <th>Max Prop Conc</th>\n",
       "    </tr>\n",
       "  </thead>\n",
       "  <tbody>\n",
       "    <tr>\n",
       "      <th>count</th>\n",
       "      <td>48.000000</td>\n",
       "      <td>48.000000</td>\n",
       "      <td>48.000000</td>\n",
       "      <td>48.000000</td>\n",
       "      <td>48.000000</td>\n",
       "      <td>48.000000</td>\n",
       "      <td>48.000000</td>\n",
       "      <td>48.000000</td>\n",
       "      <td>48.000000</td>\n",
       "    </tr>\n",
       "    <tr>\n",
       "      <th>mean</th>\n",
       "      <td>31.041667</td>\n",
       "      <td>1275.932292</td>\n",
       "      <td>3258.416667</td>\n",
       "      <td>2523.927083</td>\n",
       "      <td>4.198271</td>\n",
       "      <td>0.205812</td>\n",
       "      <td>11.398646</td>\n",
       "      <td>15560.067750</td>\n",
       "      <td>6.591667</td>\n",
       "    </tr>\n",
       "    <tr>\n",
       "      <th>std</th>\n",
       "      <td>17.526828</td>\n",
       "      <td>588.245674</td>\n",
       "      <td>885.917125</td>\n",
       "      <td>653.498439</td>\n",
       "      <td>0.954574</td>\n",
       "      <td>0.168566</td>\n",
       "      <td>1.333656</td>\n",
       "      <td>5434.227001</td>\n",
       "      <td>1.994443</td>\n",
       "    </tr>\n",
       "    <tr>\n",
       "      <th>min</th>\n",
       "      <td>0.000000</td>\n",
       "      <td>106.150000</td>\n",
       "      <td>1837.000000</td>\n",
       "      <td>755.500000</td>\n",
       "      <td>1.598000</td>\n",
       "      <td>0.010000</td>\n",
       "      <td>10.021000</td>\n",
       "      <td>344.583000</td>\n",
       "      <td>2.000000</td>\n",
       "    </tr>\n",
       "    <tr>\n",
       "      <th>25%</th>\n",
       "      <td>16.750000</td>\n",
       "      <td>935.175000</td>\n",
       "      <td>2543.625000</td>\n",
       "      <td>2088.000000</td>\n",
       "      <td>3.563000</td>\n",
       "      <td>0.090000</td>\n",
       "      <td>10.350750</td>\n",
       "      <td>13397.791500</td>\n",
       "      <td>5.000000</td>\n",
       "    </tr>\n",
       "    <tr>\n",
       "      <th>50%</th>\n",
       "      <td>31.500000</td>\n",
       "      <td>1284.325000</td>\n",
       "      <td>3062.000000</td>\n",
       "      <td>2473.250000</td>\n",
       "      <td>4.429000</td>\n",
       "      <td>0.155000</td>\n",
       "      <td>11.005000</td>\n",
       "      <td>15027.517000</td>\n",
       "      <td>6.000000</td>\n",
       "    </tr>\n",
       "    <tr>\n",
       "      <th>75%</th>\n",
       "      <td>45.250000</td>\n",
       "      <td>1631.850000</td>\n",
       "      <td>3893.250000</td>\n",
       "      <td>3003.750000</td>\n",
       "      <td>4.693750</td>\n",
       "      <td>0.260000</td>\n",
       "      <td>12.113750</td>\n",
       "      <td>17468.083250</td>\n",
       "      <td>8.000000</td>\n",
       "    </tr>\n",
       "    <tr>\n",
       "      <th>max</th>\n",
       "      <td>60.000000</td>\n",
       "      <td>2653.950000</td>\n",
       "      <td>5345.000000</td>\n",
       "      <td>4089.000000</td>\n",
       "      <td>6.235000</td>\n",
       "      <td>0.770000</td>\n",
       "      <td>15.648000</td>\n",
       "      <td>26874.000000</td>\n",
       "      <td>10.000000</td>\n",
       "    </tr>\n",
       "  </tbody>\n",
       "</table>\n",
       "</div>"
      ],
      "text/plain": [
       "         Well_id  Reservoir Pressure         ISIP  Closure Pressure  \\\n",
       "count  48.000000           48.000000    48.000000         48.000000   \n",
       "mean   31.041667         1275.932292  3258.416667       2523.927083   \n",
       "std    17.526828          588.245674   885.917125        653.498439   \n",
       "min     0.000000          106.150000  1837.000000        755.500000   \n",
       "25%    16.750000          935.175000  2543.625000       2088.000000   \n",
       "50%    31.500000         1284.325000  3062.000000       2473.250000   \n",
       "75%    45.250000         1631.850000  3893.250000       3003.750000   \n",
       "max    60.000000         2653.950000  5345.000000       4089.000000   \n",
       "\n",
       "       PAD Volume  Fluid Efficiency  Transmissibility  Total Prop Mass  \\\n",
       "count   48.000000         48.000000         48.000000        48.000000   \n",
       "mean     4.198271          0.205812         11.398646     15560.067750   \n",
       "std      0.954574          0.168566          1.333656      5434.227001   \n",
       "min      1.598000          0.010000         10.021000       344.583000   \n",
       "25%      3.563000          0.090000         10.350750     13397.791500   \n",
       "50%      4.429000          0.155000         11.005000     15027.517000   \n",
       "75%      4.693750          0.260000         12.113750     17468.083250   \n",
       "max      6.235000          0.770000         15.648000     26874.000000   \n",
       "\n",
       "       Max Prop Conc  \n",
       "count      48.000000  \n",
       "mean        6.591667  \n",
       "std         1.994443  \n",
       "min         2.000000  \n",
       "25%         5.000000  \n",
       "50%         6.000000  \n",
       "75%         8.000000  \n",
       "max        10.000000  "
      ]
     },
     "execution_count": 7,
     "metadata": {},
     "output_type": "execute_result"
    },
    {
     "data": {
      "image/png": "[encoded data removed]",
      "text/plain": [
       "<Figure size 720x720 with 9 Axes>"
      ]
     },
     "metadata": {
      "needs_background": "light"
     },
     "output_type": "display_data"
    }
   ],
   "source": [
    "# Анализируем возможные способы заполнения пропущенных данных\n",
    "# median\n",
    "df_median = df.fillna(df.median())\n",
    "df_median.hist(figsize=(10, 10))\n",
    "df_median.describe()"
   ]
  },
  {
   "cell_type": "code",
   "execution_count": 8,
   "id": "39aefafc",
   "metadata": {},
   "outputs": [
    {
     "data": {
      "text/html": [
       "<div>\n",
       "<style scoped>\n",
       "    .dataframe tbody tr th:only-of-type {\n",
       "        vertical-align: middle;\n",
       "    }\n",
       "\n",
       "    .dataframe tbody tr th {\n",
       "        vertical-align: top;\n",
       "    }\n",
       "\n",
       "    .dataframe thead th {\n",
       "        text-align: right;\n",
       "    }\n",
       "</style>\n",
       "<table border=\"1\" class=\"dataframe\">\n",
       "  <thead>\n",
       "    <tr style=\"text-align: right;\">\n",
       "      <th></th>\n",
       "      <th>Well_id</th>\n",
       "      <th>Reservoir Pressure</th>\n",
       "      <th>ISIP</th>\n",
       "      <th>Closure Pressure</th>\n",
       "      <th>PAD Volume</th>\n",
       "      <th>Fluid Efficiency</th>\n",
       "      <th>Transmissibility</th>\n",
       "      <th>Total Prop Mass</th>\n",
       "      <th>Max Prop Conc</th>\n",
       "    </tr>\n",
       "  </thead>\n",
       "  <tbody>\n",
       "    <tr>\n",
       "      <th>count</th>\n",
       "      <td>48.000000</td>\n",
       "      <td>48.000000</td>\n",
       "      <td>48.000000</td>\n",
       "      <td>48.000000</td>\n",
       "      <td>48.000000</td>\n",
       "      <td>48.000000</td>\n",
       "      <td>48.000000</td>\n",
       "      <td>48.000000</td>\n",
       "      <td>48.000000</td>\n",
       "    </tr>\n",
       "    <tr>\n",
       "      <th>mean</th>\n",
       "      <td>31.041667</td>\n",
       "      <td>1275.932292</td>\n",
       "      <td>3271.511111</td>\n",
       "      <td>2526.130435</td>\n",
       "      <td>4.198271</td>\n",
       "      <td>0.205812</td>\n",
       "      <td>11.398646</td>\n",
       "      <td>15621.992256</td>\n",
       "      <td>6.591667</td>\n",
       "    </tr>\n",
       "    <tr>\n",
       "      <th>std</th>\n",
       "      <td>17.526828</td>\n",
       "      <td>588.245674</td>\n",
       "      <td>884.433413</td>\n",
       "      <td>653.411184</td>\n",
       "      <td>0.954574</td>\n",
       "      <td>0.168566</td>\n",
       "      <td>1.333656</td>\n",
       "      <td>5431.127277</td>\n",
       "      <td>1.994443</td>\n",
       "    </tr>\n",
       "    <tr>\n",
       "      <th>min</th>\n",
       "      <td>0.000000</td>\n",
       "      <td>106.150000</td>\n",
       "      <td>1837.000000</td>\n",
       "      <td>755.500000</td>\n",
       "      <td>1.598000</td>\n",
       "      <td>0.010000</td>\n",
       "      <td>10.021000</td>\n",
       "      <td>344.583000</td>\n",
       "      <td>2.000000</td>\n",
       "    </tr>\n",
       "    <tr>\n",
       "      <th>25%</th>\n",
       "      <td>16.750000</td>\n",
       "      <td>935.175000</td>\n",
       "      <td>2543.625000</td>\n",
       "      <td>2088.000000</td>\n",
       "      <td>3.563000</td>\n",
       "      <td>0.090000</td>\n",
       "      <td>10.350750</td>\n",
       "      <td>13397.791500</td>\n",
       "      <td>5.000000</td>\n",
       "    </tr>\n",
       "    <tr>\n",
       "      <th>50%</th>\n",
       "      <td>31.500000</td>\n",
       "      <td>1284.325000</td>\n",
       "      <td>3215.750000</td>\n",
       "      <td>2512.565217</td>\n",
       "      <td>4.429000</td>\n",
       "      <td>0.155000</td>\n",
       "      <td>11.005000</td>\n",
       "      <td>15441.208500</td>\n",
       "      <td>6.000000</td>\n",
       "    </tr>\n",
       "    <tr>\n",
       "      <th>75%</th>\n",
       "      <td>45.250000</td>\n",
       "      <td>1631.850000</td>\n",
       "      <td>3893.250000</td>\n",
       "      <td>3003.750000</td>\n",
       "      <td>4.693750</td>\n",
       "      <td>0.260000</td>\n",
       "      <td>12.113750</td>\n",
       "      <td>17468.083250</td>\n",
       "      <td>8.000000</td>\n",
       "    </tr>\n",
       "    <tr>\n",
       "      <th>max</th>\n",
       "      <td>60.000000</td>\n",
       "      <td>2653.950000</td>\n",
       "      <td>5345.000000</td>\n",
       "      <td>4089.000000</td>\n",
       "      <td>6.235000</td>\n",
       "      <td>0.770000</td>\n",
       "      <td>15.648000</td>\n",
       "      <td>26874.000000</td>\n",
       "      <td>10.000000</td>\n",
       "    </tr>\n",
       "  </tbody>\n",
       "</table>\n",
       "</div>"
      ],
      "text/plain": [
       "         Well_id  Reservoir Pressure         ISIP  Closure Pressure  \\\n",
       "count  48.000000           48.000000    48.000000         48.000000   \n",
       "mean   31.041667         1275.932292  3271.511111       2526.130435   \n",
       "std    17.526828          588.245674   884.433413        653.411184   \n",
       "min     0.000000          106.150000  1837.000000        755.500000   \n",
       "25%    16.750000          935.175000  2543.625000       2088.000000   \n",
       "50%    31.500000         1284.325000  3215.750000       2512.565217   \n",
       "75%    45.250000         1631.850000  3893.250000       3003.750000   \n",
       "max    60.000000         2653.950000  5345.000000       4089.000000   \n",
       "\n",
       "       PAD Volume  Fluid Efficiency  Transmissibility  Total Prop Mass  \\\n",
       "count   48.000000         48.000000         48.000000        48.000000   \n",
       "mean     4.198271          0.205812         11.398646     15621.992256   \n",
       "std      0.954574          0.168566          1.333656      5431.127277   \n",
       "min      1.598000          0.010000         10.021000       344.583000   \n",
       "25%      3.563000          0.090000         10.350750     13397.791500   \n",
       "50%      4.429000          0.155000         11.005000     15441.208500   \n",
       "75%      4.693750          0.260000         12.113750     17468.083250   \n",
       "max      6.235000          0.770000         15.648000     26874.000000   \n",
       "\n",
       "       Max Prop Conc  \n",
       "count      48.000000  \n",
       "mean        6.591667  \n",
       "std         1.994443  \n",
       "min         2.000000  \n",
       "25%         5.000000  \n",
       "50%         6.000000  \n",
       "75%         8.000000  \n",
       "max        10.000000  "
      ]
     },
     "execution_count": 8,
     "metadata": {},
     "output_type": "execute_result"
    },
    {
     "data": {
      "image/png": "[encoded data removed]",
      "text/plain": [
       "<Figure size 720x720 with 9 Axes>"
      ]
     },
     "metadata": {
      "needs_background": "light"
     },
     "output_type": "display_data"
    }
   ],
   "source": [
    "# mean\n",
    "df_mean = df.fillna(df.mean())\n",
    "df_mean.hist(figsize=(10, 10))\n",
    "df_mean.describe()"
   ]
  },
  {
   "cell_type": "code",
   "execution_count": 9,
   "id": "68060eb6",
   "metadata": {},
   "outputs": [
    {
     "data": {
      "text/html": [
       "<div>\n",
       "<style scoped>\n",
       "    .dataframe tbody tr th:only-of-type {\n",
       "        vertical-align: middle;\n",
       "    }\n",
       "\n",
       "    .dataframe tbody tr th {\n",
       "        vertical-align: top;\n",
       "    }\n",
       "\n",
       "    .dataframe thead th {\n",
       "        text-align: right;\n",
       "    }\n",
       "</style>\n",
       "<table border=\"1\" class=\"dataframe\">\n",
       "  <thead>\n",
       "    <tr style=\"text-align: right;\">\n",
       "      <th></th>\n",
       "      <th>Well_id</th>\n",
       "      <th>Reservoir Pressure</th>\n",
       "      <th>ISIP</th>\n",
       "      <th>Closure Pressure</th>\n",
       "      <th>PAD Volume</th>\n",
       "      <th>Fluid Efficiency</th>\n",
       "      <th>Transmissibility</th>\n",
       "      <th>Total Prop Mass</th>\n",
       "      <th>Max Prop Conc</th>\n",
       "    </tr>\n",
       "  </thead>\n",
       "  <tbody>\n",
       "    <tr>\n",
       "      <th>count</th>\n",
       "      <td>48.000000</td>\n",
       "      <td>48.000000</td>\n",
       "      <td>47.000000</td>\n",
       "      <td>48.000000</td>\n",
       "      <td>48.000000</td>\n",
       "      <td>48.000000</td>\n",
       "      <td>48.000000</td>\n",
       "      <td>47.000000</td>\n",
       "      <td>48.000000</td>\n",
       "    </tr>\n",
       "    <tr>\n",
       "      <th>mean</th>\n",
       "      <td>31.041667</td>\n",
       "      <td>1275.932292</td>\n",
       "      <td>3291.329787</td>\n",
       "      <td>2539.552083</td>\n",
       "      <td>4.198271</td>\n",
       "      <td>0.205812</td>\n",
       "      <td>11.398646</td>\n",
       "      <td>16138.250000</td>\n",
       "      <td>6.591667</td>\n",
       "    </tr>\n",
       "    <tr>\n",
       "      <th>std</th>\n",
       "      <td>17.526828</td>\n",
       "      <td>588.245674</td>\n",
       "      <td>959.501010</td>\n",
       "      <td>656.664308</td>\n",
       "      <td>0.954574</td>\n",
       "      <td>0.168566</td>\n",
       "      <td>1.333656</td>\n",
       "      <td>5891.348367</td>\n",
       "      <td>1.994443</td>\n",
       "    </tr>\n",
       "    <tr>\n",
       "      <th>min</th>\n",
       "      <td>0.000000</td>\n",
       "      <td>106.150000</td>\n",
       "      <td>1837.000000</td>\n",
       "      <td>755.500000</td>\n",
       "      <td>1.598000</td>\n",
       "      <td>0.010000</td>\n",
       "      <td>10.021000</td>\n",
       "      <td>344.583000</td>\n",
       "      <td>2.000000</td>\n",
       "    </tr>\n",
       "    <tr>\n",
       "      <th>25%</th>\n",
       "      <td>16.750000</td>\n",
       "      <td>935.175000</td>\n",
       "      <td>2522.500000</td>\n",
       "      <td>2088.000000</td>\n",
       "      <td>3.563000</td>\n",
       "      <td>0.090000</td>\n",
       "      <td>10.350750</td>\n",
       "      <td>13131.000000</td>\n",
       "      <td>5.000000</td>\n",
       "    </tr>\n",
       "    <tr>\n",
       "      <th>50%</th>\n",
       "      <td>31.500000</td>\n",
       "      <td>1284.325000</td>\n",
       "      <td>3062.000000</td>\n",
       "      <td>2567.250000</td>\n",
       "      <td>4.429000</td>\n",
       "      <td>0.155000</td>\n",
       "      <td>11.005000</td>\n",
       "      <td>15183.333000</td>\n",
       "      <td>6.000000</td>\n",
       "    </tr>\n",
       "    <tr>\n",
       "      <th>75%</th>\n",
       "      <td>45.250000</td>\n",
       "      <td>1631.850000</td>\n",
       "      <td>3944.250000</td>\n",
       "      <td>3003.750000</td>\n",
       "      <td>4.693750</td>\n",
       "      <td>0.260000</td>\n",
       "      <td>12.113750</td>\n",
       "      <td>21065.333000</td>\n",
       "      <td>8.000000</td>\n",
       "    </tr>\n",
       "    <tr>\n",
       "      <th>max</th>\n",
       "      <td>60.000000</td>\n",
       "      <td>2653.950000</td>\n",
       "      <td>5345.000000</td>\n",
       "      <td>4089.000000</td>\n",
       "      <td>6.235000</td>\n",
       "      <td>0.770000</td>\n",
       "      <td>15.648000</td>\n",
       "      <td>26874.000000</td>\n",
       "      <td>10.000000</td>\n",
       "    </tr>\n",
       "  </tbody>\n",
       "</table>\n",
       "</div>"
      ],
      "text/plain": [
       "         Well_id  Reservoir Pressure         ISIP  Closure Pressure  \\\n",
       "count  48.000000           48.000000    47.000000         48.000000   \n",
       "mean   31.041667         1275.932292  3291.329787       2539.552083   \n",
       "std    17.526828          588.245674   959.501010        656.664308   \n",
       "min     0.000000          106.150000  1837.000000        755.500000   \n",
       "25%    16.750000          935.175000  2522.500000       2088.000000   \n",
       "50%    31.500000         1284.325000  3062.000000       2567.250000   \n",
       "75%    45.250000         1631.850000  3944.250000       3003.750000   \n",
       "max    60.000000         2653.950000  5345.000000       4089.000000   \n",
       "\n",
       "       PAD Volume  Fluid Efficiency  Transmissibility  Total Prop Mass  \\\n",
       "count   48.000000         48.000000         48.000000        47.000000   \n",
       "mean     4.198271          0.205812         11.398646     16138.250000   \n",
       "std      0.954574          0.168566          1.333656      5891.348367   \n",
       "min      1.598000          0.010000         10.021000       344.583000   \n",
       "25%      3.563000          0.090000         10.350750     13131.000000   \n",
       "50%      4.429000          0.155000         11.005000     15183.333000   \n",
       "75%      4.693750          0.260000         12.113750     21065.333000   \n",
       "max      6.235000          0.770000         15.648000     26874.000000   \n",
       "\n",
       "       Max Prop Conc  \n",
       "count      48.000000  \n",
       "mean        6.591667  \n",
       "std         1.994443  \n",
       "min         2.000000  \n",
       "25%         5.000000  \n",
       "50%         6.000000  \n",
       "75%         8.000000  \n",
       "max        10.000000  "
      ]
     },
     "execution_count": 9,
     "metadata": {},
     "output_type": "execute_result"
    },
    {
     "data": {
      "image/png": "[encoded data removed]",
      "text/plain": [
       "<Figure size 720x720 with 9 Axes>"
      ]
     },
     "metadata": {
      "needs_background": "light"
     },
     "output_type": "display_data"
    }
   ],
   "source": [
    "# mode\n",
    "df_mode = df.fillna(df.mode())\n",
    "df_mode.hist(figsize=(10, 10))\n",
    "df_mode.describe()"
   ]
  },
  {
   "cell_type": "code",
   "execution_count": 10,
   "id": "96108a63",
   "metadata": {},
   "outputs": [],
   "source": [
    "# выбираем в качестве способа заполнения пропусков - среднее арифметическое\n",
    "df = df.fillna(df.mean())"
   ]
  },
  {
   "cell_type": "code",
   "execution_count": 11,
   "id": "c3dfd4e8",
   "metadata": {},
   "outputs": [
    {
     "data": {
      "text/html": [
       "<div>\n",
       "<style scoped>\n",
       "    .dataframe tbody tr th:only-of-type {\n",
       "        vertical-align: middle;\n",
       "    }\n",
       "\n",
       "    .dataframe tbody tr th {\n",
       "        vertical-align: top;\n",
       "    }\n",
       "\n",
       "    .dataframe thead th {\n",
       "        text-align: right;\n",
       "    }\n",
       "</style>\n",
       "<table border=\"1\" class=\"dataframe\">\n",
       "  <thead>\n",
       "    <tr style=\"text-align: right;\">\n",
       "      <th></th>\n",
       "      <th>Well_id</th>\n",
       "      <th>Reservoir Pressure</th>\n",
       "      <th>ISIP</th>\n",
       "      <th>Closure Pressure</th>\n",
       "      <th>PAD Volume</th>\n",
       "      <th>Fluid Efficiency</th>\n",
       "      <th>Transmissibility</th>\n",
       "      <th>Total Prop Mass</th>\n",
       "      <th>Max Prop Conc</th>\n",
       "    </tr>\n",
       "  </thead>\n",
       "  <tbody>\n",
       "    <tr>\n",
       "      <th>0</th>\n",
       "      <td>0</td>\n",
       "      <td>1250.50</td>\n",
       "      <td>2129.500000</td>\n",
       "      <td>1861.0</td>\n",
       "      <td>4.892</td>\n",
       "      <td>0.149</td>\n",
       "      <td>12.685</td>\n",
       "      <td>16787.317</td>\n",
       "      <td>7.0</td>\n",
       "    </tr>\n",
       "    <tr>\n",
       "      <th>1</th>\n",
       "      <td>2</td>\n",
       "      <td>946.75</td>\n",
       "      <td>2850.500000</td>\n",
       "      <td>2413.5</td>\n",
       "      <td>5.005</td>\n",
       "      <td>0.240</td>\n",
       "      <td>10.236</td>\n",
       "      <td>14543.000</td>\n",
       "      <td>5.0</td>\n",
       "    </tr>\n",
       "    <tr>\n",
       "      <th>2</th>\n",
       "      <td>3</td>\n",
       "      <td>1515.00</td>\n",
       "      <td>3782.500000</td>\n",
       "      <td>3054.5</td>\n",
       "      <td>4.995</td>\n",
       "      <td>0.100</td>\n",
       "      <td>10.667</td>\n",
       "      <td>14366.000</td>\n",
       "      <td>5.0</td>\n",
       "    </tr>\n",
       "    <tr>\n",
       "      <th>3</th>\n",
       "      <td>4</td>\n",
       "      <td>2390.55</td>\n",
       "      <td>3449.500000</td>\n",
       "      <td>3048.0</td>\n",
       "      <td>4.457</td>\n",
       "      <td>0.040</td>\n",
       "      <td>10.765</td>\n",
       "      <td>15406.000</td>\n",
       "      <td>5.0</td>\n",
       "    </tr>\n",
       "    <tr>\n",
       "      <th>4</th>\n",
       "      <td>8</td>\n",
       "      <td>655.95</td>\n",
       "      <td>3271.511111</td>\n",
       "      <td>2290.0</td>\n",
       "      <td>3.563</td>\n",
       "      <td>0.080</td>\n",
       "      <td>12.254</td>\n",
       "      <td>15504.917</td>\n",
       "      <td>7.0</td>\n",
       "    </tr>\n",
       "  </tbody>\n",
       "</table>\n",
       "</div>"
      ],
      "text/plain": [
       "   Well_id  Reservoir Pressure         ISIP  Closure Pressure  PAD Volume  \\\n",
       "0        0             1250.50  2129.500000            1861.0       4.892   \n",
       "1        2              946.75  2850.500000            2413.5       5.005   \n",
       "2        3             1515.00  3782.500000            3054.5       4.995   \n",
       "3        4             2390.55  3449.500000            3048.0       4.457   \n",
       "4        8              655.95  3271.511111            2290.0       3.563   \n",
       "\n",
       "   Fluid Efficiency  Transmissibility  Total Prop Mass  Max Prop Conc  \n",
       "0             0.149            12.685        16787.317            7.0  \n",
       "1             0.240            10.236        14543.000            5.0  \n",
       "2             0.100            10.667        14366.000            5.0  \n",
       "3             0.040            10.765        15406.000            5.0  \n",
       "4             0.080            12.254        15504.917            7.0  "
      ]
     },
     "execution_count": 11,
     "metadata": {},
     "output_type": "execute_result"
    }
   ],
   "source": [
    "df.head()"
   ]
  },
  {
   "cell_type": "code",
   "execution_count": 12,
   "id": "c4833a5c",
   "metadata": {},
   "outputs": [],
   "source": [
    "# Проверка гипотезы о положительной корреляции между давлением в резервуаре и общей массы проппанта\n",
    "x = df[\"Reservoir Pressure\"]\n",
    "y = df[\"Total Prop Mass\"]"
   ]
  },
  {
   "cell_type": "code",
   "execution_count": 13,
   "id": "4ed9b9f8",
   "metadata": {},
   "outputs": [
    {
     "data": {
      "text/plain": [
       "<AxesSubplot:>"
      ]
     },
     "execution_count": 13,
     "metadata": {},
     "output_type": "execute_result"
    },
    {
     "data": {
      "image/png": "[encoded data removed]",
      "text/plain": [
       "<Figure size 432x288 with 1 Axes>"
      ]
     },
     "metadata": {
      "needs_background": "light"
     },
     "output_type": "display_data"
    }
   ],
   "source": [
    "x.hist()"
   ]
  },
  {
   "cell_type": "code",
   "execution_count": 14,
   "id": "f26e03b8",
   "metadata": {},
   "outputs": [
    {
     "data": {
      "text/plain": [
       "<AxesSubplot:>"
      ]
     },
     "execution_count": 14,
     "metadata": {},
     "output_type": "execute_result"
    },
    {
     "data": {
      "image/png": "[encoded data removed]",
      "text/plain": [
       "<Figure size 432x288 with 1 Axes>"
      ]
     },
     "metadata": {
      "needs_background": "light"
     },
     "output_type": "display_data"
    }
   ],
   "source": [
    "y.hist()"
   ]
  },
  {
   "cell_type": "code",
   "execution_count": 15,
   "id": "59d16da0",
   "metadata": {},
   "outputs": [],
   "source": [
    "# Распределения переменных унимодально, без выбросов и близко к нормальному, что позволяет произвести расчет коэффциенте Пирсона \n",
    "# для проверки взаимосвязи между ними"
   ]
  },
  {
   "cell_type": "code",
   "execution_count": 16,
   "id": "9333986c",
   "metadata": {},
   "outputs": [
    {
     "data": {
      "text/plain": [
       "Text(0, 0.5, 'Total Prop Mass')"
      ]
     },
     "execution_count": 16,
     "metadata": {},
     "output_type": "execute_result"
    },
    {
     "data": {
      "image/png": "[encoded data removed]",
      "text/plain": [
       "<Figure size 432x288 with 1 Axes>"
      ]
     },
     "metadata": {
      "needs_background": "light"
     },
     "output_type": "display_data"
    }
   ],
   "source": [
    "plt.scatter(x, y)\n",
    "plt.xlabel(\"Reservoir Pressure\")\n",
    "plt.ylabel(\"Total Prop Mass\")"
   ]
  },
  {
   "cell_type": "code",
   "execution_count": 17,
   "id": "52fac530",
   "metadata": {},
   "outputs": [
    {
     "data": {
      "text/plain": [
       "-0.10245334570356772"
      ]
     },
     "execution_count": 17,
     "metadata": {},
     "output_type": "execute_result"
    }
   ],
   "source": [
    "pirson_coeff = x.corr(y)\n",
    "pirson_coeff"
   ]
  },
  {
   "cell_type": "code",
   "execution_count": 18,
   "id": "91719094",
   "metadata": {},
   "outputs": [],
   "source": [
    "# Коэффиент Пирсона близок к нулю и более того он отрицательный, что позволяет сделать вывод о том, \n",
    "# что гипотеза о положительной корреляции между давлением в резервуаре и общей массой проппанта неверна"
   ]
  },
  {
   "cell_type": "code",
   "execution_count": 19,
   "id": "19fea54f",
   "metadata": {},
   "outputs": [
    {
     "data": {
      "text/plain": [
       "<AxesSubplot:>"
      ]
     },
     "execution_count": 19,
     "metadata": {},
     "output_type": "execute_result"
    },
    {
     "data": {
      "image/png": "[encoded data removed]",
      "text/plain": [
       "<Figure size 1080x576 with 2 Axes>"
      ]
     },
     "metadata": {
      "needs_background": "light"
     },
     "output_type": "display_data"
    }
   ],
   "source": [
    "# Поиск других корреляций\n",
    "plt.figure(figsize = (15,8))\n",
    "sns.heatmap(df.corr(), annot=True, fmt=\".2g\")"
   ]
  },
  {
   "cell_type": "code",
   "execution_count": 20,
   "id": "d536bef6",
   "metadata": {},
   "outputs": [],
   "source": [
    "# Видна сильная положительная корреляция между Closure Pressure и ISIP. Гипотеза: Чем больше ISIP, тем больше Closure Pressure"
   ]
  },
  {
   "cell_type": "code",
   "execution_count": 25,
   "id": "8731323a",
   "metadata": {},
   "outputs": [],
   "source": [
    "# Для оценки массы проппанта попробуем установить связь концентрации проппанта и его общей массой\n",
    "X = df[\"Max Prop Conc\"]\n",
    "Y = df[\"Total Prop Mass\"]"
   ]
  },
  {
   "cell_type": "code",
   "execution_count": 26,
   "id": "bb8e69bb",
   "metadata": {},
   "outputs": [
    {
     "data": {
      "text/plain": [
       "count    48.000000\n",
       "mean      6.591667\n",
       "std       1.994443\n",
       "min       2.000000\n",
       "25%       5.000000\n",
       "50%       6.000000\n",
       "75%       8.000000\n",
       "max      10.000000\n",
       "Name: Max Prop Conc, dtype: float64"
      ]
     },
     "execution_count": 26,
     "metadata": {},
     "output_type": "execute_result"
    },
    {
     "data": {
      "image/png": "[encoded data removed]",
      "text/plain": [
       "<Figure size 432x288 with 1 Axes>"
      ]
     },
     "metadata": {
      "needs_background": "light"
     },
     "output_type": "display_data"
    }
   ],
   "source": [
    "X.hist()\n",
    "X.describe()"
   ]
  },
  {
   "cell_type": "code",
   "execution_count": 27,
   "id": "0ac1fd30",
   "metadata": {},
   "outputs": [
    {
     "data": {
      "text/plain": [
       "<AxesSubplot:>"
      ]
     },
     "execution_count": 27,
     "metadata": {},
     "output_type": "execute_result"
    },
    {
     "data": {
      "image/png": "[encoded data removed]",
      "text/plain": [
       "<Figure size 432x288 with 1 Axes>"
      ]
     },
     "metadata": {
      "needs_background": "light"
     },
     "output_type": "display_data"
    }
   ],
   "source": [
    "Y.hist()"
   ]
  },
  {
   "cell_type": "code",
   "execution_count": 28,
   "id": "bdd66299",
   "metadata": {},
   "outputs": [
    {
     "data": {
      "text/plain": [
       "0.6305979018051141"
      ]
     },
     "execution_count": 28,
     "metadata": {},
     "output_type": "execute_result"
    }
   ],
   "source": [
    "# Распределения величин близки к нормальном, унимодальны и без явных выбросов\n",
    "X.corr(Y)"
   ]
  },
  {
   "cell_type": "code",
   "execution_count": 29,
   "id": "df4984a5",
   "metadata": {},
   "outputs": [],
   "source": [
    "# Разбиение наших данных на тренировочную и тестовую выборки\n",
    "X = np.array(X).reshape((-1, 1))\n",
    "Y = np.array(Y)\n",
    "\n",
    "\n",
    "X_train, X_test, Y_train, Y_test = train_test_split(X, Y, test_size=0.33, random_state=42)"
   ]
  },
  {
   "cell_type": "code",
   "execution_count": 30,
   "id": "5a4852a9",
   "metadata": {},
   "outputs": [
    {
     "data": {
      "text/plain": [
       "{'fit_intercept': True,\n",
       " 'normalize': 'deprecated',\n",
       " 'copy_X': True,\n",
       " 'n_jobs': None,\n",
       " 'positive': False,\n",
       " 'n_features_in_': 1,\n",
       " 'coef_': array([1870.87265376]),\n",
       " '_residues': 586499464.9879984,\n",
       " 'rank_': 1,\n",
       " 'singular_': array([11.79639776]),\n",
       " 'intercept_': 3369.438577900417}"
      ]
     },
     "execution_count": 30,
     "metadata": {},
     "output_type": "execute_result"
    }
   ],
   "source": [
    "model = LinearRegression().fit(X_train, Y_train)\n",
    "model.__dict__"
   ]
  },
  {
   "cell_type": "code",
   "execution_count": 31,
   "id": "4c0ddfff",
   "metadata": {},
   "outputs": [],
   "source": [
    "r_sq = model.score(X_train, Y_train)\n",
    "slope = model.coef_\n",
    "intercept = model.intercept_"
   ]
  },
  {
   "cell_type": "code",
   "execution_count": 32,
   "id": "4614ca08",
   "metadata": {},
   "outputs": [
    {
     "name": "stdout",
     "output_type": "stream",
     "text": [
      "coefficient of determination: 0.4536897675659993\n",
      "slope: 1870.872653764457\n",
      "intercept: 3369.438577900417\n"
     ]
    }
   ],
   "source": [
    "print('coefficient of determination:', r_sq)\n",
    "print('slope:', slope[0])\n",
    "print('intercept:', intercept)"
   ]
  },
  {
   "cell_type": "code",
   "execution_count": 33,
   "id": "4a1bad99",
   "metadata": {},
   "outputs": [],
   "source": [
    "# Прогноз\n",
    "Y_predicted = model.predict(X_test)"
   ]
  },
  {
   "cell_type": "code",
   "execution_count": 34,
   "id": "baf24159",
   "metadata": {},
   "outputs": [
    {
     "data": {
      "text/plain": [
       "[<matplotlib.lines.Line2D at 0x20b14742400>]"
      ]
     },
     "execution_count": 34,
     "metadata": {},
     "output_type": "execute_result"
    },
    {
     "data": {
      "image/png": "[encoded data removed]",
      "text/plain": [
       "<Figure size 432x288 with 1 Axes>"
      ]
     },
     "metadata": {
      "needs_background": "light"
     },
     "output_type": "display_data"
    }
   ],
   "source": [
    "# Визуализация полученных результатов\n",
    "plt.scatter(X_test, Y_test, color=\"green\")\n",
    "plt.plot(X_test, Y_predicted, color=\"red\")"
   ]
  },
  {
   "cell_type": "code",
   "execution_count": 35,
   "id": "4996df7d",
   "metadata": {},
   "outputs": [
    {
     "name": "stdout",
     "output_type": "stream",
     "text": [
      "Mean Absolute Error: 2945.935343084151\n",
      "Mean Squared Error: 15830753.928649878\n",
      "Root Mean Squared Error: 3978.7879974497105\n"
     ]
    }
   ],
   "source": [
    "# Оценка точности модели\n",
    "print('Mean Absolute Error:', metrics.mean_absolute_error(Y_test, Y_predicted))\n",
    "print('Mean Squared Error:', metrics.mean_squared_error(Y_test, Y_predicted))\n",
    "print('Root Mean Squared Error:', np.sqrt(metrics.mean_squared_error(Y_test, Y_predicted)))"
   ]
  },
  {
   "cell_type": "code",
   "execution_count": null,
   "id": "d4c37c2e",
   "metadata": {},
   "outputs": [],
   "source": []
  }
 ],
 "metadata": {
  "kernelspec": {
   "display_name": "Python 3",
   "language": "python",
   "name": "python3"
  },
  "language_info": {
   "codemirror_mode": {
    "name": "ipython",
    "version": 3
   },
   "file_extension": ".py",
   "mimetype": "text/x-python",
   "name": "python",
   "nbconvert_exporter": "python",
   "pygments_lexer": "ipython3",
   "version": "3.9.2"
  }
 },
 "nbformat": 4,
 "nbformat_minor": 5
}
